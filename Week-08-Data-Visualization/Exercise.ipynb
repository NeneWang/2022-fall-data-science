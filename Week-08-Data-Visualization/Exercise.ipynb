{
 "cells": [
  {
   "cell_type": "code",
   "execution_count": 1,
   "id": "cc2138ea",
   "metadata": {},
   "outputs": [
    {
     "name": "stdout",
     "output_type": "stream",
     "text": [
      "BX-Police.csv     Sales.csv         budget-sample.csv\r\n",
      "Iris.csv          Stocks.csv\r\n"
     ]
    }
   ],
   "source": [
    "! ls data/\n",
    "import plotly.express as px"
   ]
  },
  {
   "cell_type": "markdown",
   "id": "9cca801f",
   "metadata": {},
   "source": [
    "# Using budget-sample.csv\n",
    "* Plot a histogram of the base_salary.  Write one sentence about what this tells you about base salaries.\n",
    "* Make a boxplot of base salaries, what does this tell you about base salaries?\n",
    "* Make a boxplot of base salaries per (or by) work_location_borough, what does this tell you about the difference in working in each location?\n",
    "* Make a plot visualizing the difference average base salaries based on agency_name.  Who would you want to work for based on this information?\n",
    "<br><br>\n",
    "* __Tell me something new, cool, and interesting about this data__\n"
   ]
  },
  {
   "cell_type": "code",
   "execution_count": 1,
   "id": "0b39cf6f",
   "metadata": {},
   "outputs": [],
   "source": [
    "import pandas as pd\n",
    "df = pd.read_csv('data/budget-sample.csv')\n"
   ]
  },
  {
   "cell_type": "code",
   "execution_count": 2,
   "id": "c67c271b",
   "metadata": {},
   "outputs": [
    {
     "data": {
      "text/html": [
       "<div>\n",
       "<style scoped>\n",
       "    .dataframe tbody tr th:only-of-type {\n",
       "        vertical-align: middle;\n",
       "    }\n",
       "\n",
       "    .dataframe tbody tr th {\n",
       "        vertical-align: top;\n",
       "    }\n",
       "\n",
       "    .dataframe thead th {\n",
       "        text-align: right;\n",
       "    }\n",
       "</style>\n",
       "<table border=\"1\" class=\"dataframe\">\n",
       "  <thead>\n",
       "    <tr style=\"text-align: right;\">\n",
       "      <th></th>\n",
       "      <th>fiscal_year</th>\n",
       "      <th>payroll_number</th>\n",
       "      <th>agency_name</th>\n",
       "      <th>last_name</th>\n",
       "      <th>first_name</th>\n",
       "      <th>mid_init</th>\n",
       "      <th>agency_start_date</th>\n",
       "      <th>work_location_borough</th>\n",
       "      <th>title_description</th>\n",
       "      <th>leave_status_as_of_june_30</th>\n",
       "      <th>base_salary</th>\n",
       "      <th>pay_basis</th>\n",
       "      <th>regular_hours</th>\n",
       "      <th>regular_gross_paid</th>\n",
       "      <th>ot_hours</th>\n",
       "      <th>total_ot_paid</th>\n",
       "      <th>total_other_pay</th>\n",
       "    </tr>\n",
       "  </thead>\n",
       "  <tbody>\n",
       "    <tr>\n",
       "      <th>0</th>\n",
       "      <td>2020</td>\n",
       "      <td>826</td>\n",
       "      <td>DEPT OF ENVIRONMENT PROTECTION</td>\n",
       "      <td>BROWN</td>\n",
       "      <td>TRACYANN</td>\n",
       "      <td>NaN</td>\n",
       "      <td>02/23/2004</td>\n",
       "      <td>QUEENS</td>\n",
       "      <td>COMMUNITY ASSISTANT</td>\n",
       "      <td>ACTIVE</td>\n",
       "      <td>37816.0</td>\n",
       "      <td>per Annum</td>\n",
       "      <td>2080.0</td>\n",
       "      <td>37235.48</td>\n",
       "      <td>11.00</td>\n",
       "      <td>206.04</td>\n",
       "      <td>1309.56</td>\n",
       "    </tr>\n",
       "    <tr>\n",
       "      <th>1</th>\n",
       "      <td>2020</td>\n",
       "      <td>56</td>\n",
       "      <td>POLICE DEPARTMENT</td>\n",
       "      <td>WONG</td>\n",
       "      <td>CHIWAI</td>\n",
       "      <td>NaN</td>\n",
       "      <td>07/08/2015</td>\n",
       "      <td>BROOKLYN</td>\n",
       "      <td>POLICE OFFICER</td>\n",
       "      <td>ACTIVE</td>\n",
       "      <td>63125.0</td>\n",
       "      <td>per Annum</td>\n",
       "      <td>2080.0</td>\n",
       "      <td>60758.85</td>\n",
       "      <td>343.13</td>\n",
       "      <td>10842.71</td>\n",
       "      <td>10325.31</td>\n",
       "    </tr>\n",
       "    <tr>\n",
       "      <th>2</th>\n",
       "      <td>2020</td>\n",
       "      <td>742</td>\n",
       "      <td>DEPT OF ED PEDAGOGICAL</td>\n",
       "      <td>FARRELL</td>\n",
       "      <td>TARA</td>\n",
       "      <td>E</td>\n",
       "      <td>09/09/1996</td>\n",
       "      <td>MANHATTAN</td>\n",
       "      <td>TEACHER SPECIAL EDUCATION</td>\n",
       "      <td>ACTIVE</td>\n",
       "      <td>121226.0</td>\n",
       "      <td>per Annum</td>\n",
       "      <td>0.0</td>\n",
       "      <td>118638.72</td>\n",
       "      <td>0.00</td>\n",
       "      <td>0.00</td>\n",
       "      <td>13069.69</td>\n",
       "    </tr>\n",
       "    <tr>\n",
       "      <th>3</th>\n",
       "      <td>2020</td>\n",
       "      <td>827</td>\n",
       "      <td>DEPARTMENT OF SANITATION</td>\n",
       "      <td>ATTANASIO</td>\n",
       "      <td>JOSEPH</td>\n",
       "      <td>NaN</td>\n",
       "      <td>10/18/1999</td>\n",
       "      <td>QUEENS</td>\n",
       "      <td>SANITATION WORKER</td>\n",
       "      <td>ACTIVE</td>\n",
       "      <td>77318.0</td>\n",
       "      <td>per Annum</td>\n",
       "      <td>2080.0</td>\n",
       "      <td>75833.83</td>\n",
       "      <td>455.50</td>\n",
       "      <td>28225.89</td>\n",
       "      <td>17602.11</td>\n",
       "    </tr>\n",
       "    <tr>\n",
       "      <th>4</th>\n",
       "      <td>2020</td>\n",
       "      <td>744</td>\n",
       "      <td>DEPT OF ED PARA PROFESSIONALS</td>\n",
       "      <td>MCNEIL</td>\n",
       "      <td>GLORIA</td>\n",
       "      <td>D</td>\n",
       "      <td>09/28/1989</td>\n",
       "      <td>MANHATTAN</td>\n",
       "      <td>ANNUAL ED PARA</td>\n",
       "      <td>ACTIVE</td>\n",
       "      <td>46333.0</td>\n",
       "      <td>per Annum</td>\n",
       "      <td>0.0</td>\n",
       "      <td>45344.28</td>\n",
       "      <td>0.00</td>\n",
       "      <td>0.00</td>\n",
       "      <td>5076.22</td>\n",
       "    </tr>\n",
       "  </tbody>\n",
       "</table>\n",
       "</div>"
      ],
      "text/plain": [
       "   fiscal_year  payroll_number                     agency_name  last_name  \\\n",
       "0         2020             826  DEPT OF ENVIRONMENT PROTECTION      BROWN   \n",
       "1         2020              56               POLICE DEPARTMENT       WONG   \n",
       "2         2020             742          DEPT OF ED PEDAGOGICAL    FARRELL   \n",
       "3         2020             827        DEPARTMENT OF SANITATION  ATTANASIO   \n",
       "4         2020             744   DEPT OF ED PARA PROFESSIONALS     MCNEIL   \n",
       "\n",
       "  first_name mid_init agency_start_date work_location_borough  \\\n",
       "0   TRACYANN      NaN        02/23/2004                QUEENS   \n",
       "1     CHIWAI      NaN        07/08/2015              BROOKLYN   \n",
       "2       TARA        E        09/09/1996             MANHATTAN   \n",
       "3     JOSEPH      NaN        10/18/1999                QUEENS   \n",
       "4     GLORIA        D        09/28/1989             MANHATTAN   \n",
       "\n",
       "           title_description leave_status_as_of_june_30  base_salary  \\\n",
       "0        COMMUNITY ASSISTANT                     ACTIVE      37816.0   \n",
       "1             POLICE OFFICER                     ACTIVE      63125.0   \n",
       "2  TEACHER SPECIAL EDUCATION                     ACTIVE     121226.0   \n",
       "3          SANITATION WORKER                     ACTIVE      77318.0   \n",
       "4             ANNUAL ED PARA                     ACTIVE      46333.0   \n",
       "\n",
       "   pay_basis  regular_hours  regular_gross_paid  ot_hours  total_ot_paid  \\\n",
       "0  per Annum         2080.0            37235.48     11.00         206.04   \n",
       "1  per Annum         2080.0            60758.85    343.13       10842.71   \n",
       "2  per Annum            0.0           118638.72      0.00           0.00   \n",
       "3  per Annum         2080.0            75833.83    455.50       28225.89   \n",
       "4  per Annum            0.0            45344.28      0.00           0.00   \n",
       "\n",
       "   total_other_pay  \n",
       "0          1309.56  \n",
       "1         10325.31  \n",
       "2         13069.69  \n",
       "3         17602.11  \n",
       "4          5076.22  "
      ]
     },
     "execution_count": 2,
     "metadata": {},
     "output_type": "execute_result"
    }
   ],
   "source": [
    "df.head()"
   ]
  },
  {
   "cell_type": "code",
   "execution_count": null,
   "id": "c1b11da8",
   "metadata": {},
   "outputs": [],
   "source": [
    "def split_geoid(input_string):\n",
    "    return ( input_string.split('-')[1] )\n",
    "\n",
    "df['fips'] = df['geoid'].apply(split_geoid)\n",
    "df.head()"
   ]
  },
  {
   "cell_type": "code",
   "execution_count": null,
   "id": "68756718",
   "metadata": {},
   "outputs": [],
   "source": []
  },
  {
   "cell_type": "code",
   "execution_count": null,
   "id": "9e07ef12",
   "metadata": {},
   "outputs": [],
   "source": []
  },
  {
   "cell_type": "markdown",
   "id": "5fe01082",
   "metadata": {},
   "source": [
    "# Using the BX-Police.csv data:\n",
    "* create a time series chart illustrating their average base salary over time (by fiscal_year).  \n",
    "* What trend does this show? \n",
    "* Why do you think the trend exists?\n"
   ]
  },
  {
   "cell_type": "code",
   "execution_count": null,
   "id": "dc30ddab",
   "metadata": {},
   "outputs": [],
   "source": []
  },
  {
   "cell_type": "code",
   "execution_count": null,
   "id": "a4811143",
   "metadata": {},
   "outputs": [],
   "source": []
  },
  {
   "cell_type": "code",
   "execution_count": null,
   "id": "b213c02b",
   "metadata": {},
   "outputs": [],
   "source": []
  },
  {
   "cell_type": "markdown",
   "id": "9d3eb95b",
   "metadata": {},
   "source": [
    "# Using Stocks.csv\n",
    "* Tell me a story about the Google stock for the year. \n",
    "* Any story you'd like to tell. \n"
   ]
  },
  {
   "cell_type": "code",
   "execution_count": null,
   "id": "46f2609c",
   "metadata": {},
   "outputs": [],
   "source": []
  },
  {
   "cell_type": "code",
   "execution_count": null,
   "id": "e42382f5",
   "metadata": {},
   "outputs": [],
   "source": []
  },
  {
   "cell_type": "markdown",
   "id": "83c6113b",
   "metadata": {},
   "source": [
    "# Using Sales.csv \n",
    "* make a time series chart that shows the sales for each item over the past 12 months.  \n",
    "* What does this tell you about the items.  \n",
    "* Which item would you recommend they push more of and which item/s would you recommend they stop selling?\n",
    "* show what percentage of each item contributes to total sales. \n"
   ]
  },
  {
   "cell_type": "code",
   "execution_count": null,
   "id": "a26211af",
   "metadata": {},
   "outputs": [],
   "source": []
  }
 ],
 "metadata": {
  "kernelspec": {
   "display_name": "Python 3 (ipykernel)",
   "language": "python",
   "name": "python3"
  },
  "language_info": {
   "codemirror_mode": {
    "name": "ipython",
    "version": 3
   },
   "file_extension": ".py",
   "mimetype": "text/x-python",
   "name": "python",
   "nbconvert_exporter": "python",
   "pygments_lexer": "ipython3",
   "version": "3.9.12"
  }
 },
 "nbformat": 4,
 "nbformat_minor": 5
}
